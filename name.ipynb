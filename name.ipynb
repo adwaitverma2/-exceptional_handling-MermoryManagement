{
 "cells": [
  {
   "cell_type": "code",
   "execution_count": 1,
   "id": "24f7e965",
   "metadata": {},
   "outputs": [
    {
     "name": "stdout",
     "output_type": "stream",
     "text": [
      "Hello, Python!\n"
     ]
    }
   ],
   "source": [
    "#2. Write a Python program to read the contents of a file and print each line\n",
    "\n",
    "with open(\"example.txt\", \"r\") as f:  # 'r' mode opens for reading\n",
    "    for line in f:\n",
    "        print(line.strip())  # Remove newline character"
   ]
  }
 ],
 "metadata": {
  "kernelspec": {
   "display_name": "Python 3 (ipykernel)",
   "language": "python",
   "name": "python3"
  },
  "language_info": {
   "codemirror_mode": {
    "name": "ipython",
    "version": 3
   },
   "file_extension": ".py",
   "mimetype": "text/x-python",
   "name": "python",
   "nbconvert_exporter": "python",
   "pygments_lexer": "ipython3",
   "version": "3.13.4"
  }
 },
 "nbformat": 4,
 "nbformat_minor": 5
}

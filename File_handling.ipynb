{
 "cells": [
  {
   "cell_type": "markdown",
   "metadata": {
    "id": "QJ5r-sf1FTEt"
   },
   "source": [
    "# 1.What is the difference between interpreted and compiled languages?\n",
    "\n",
    "**1. Execution Process**\n",
    "\n",
    "Compiled: Code is translated into machine code by a compiler before execution.\n",
    "\n",
    "Interpreted: Code is executed line-by-line by an interpreter at runtime.\n",
    "\n",
    "**2. Speed**\n",
    "\n",
    "Compiled languages run faster because machine code is pre-generated.\n",
    "\n",
    "Interpreted languages are slower due to on-the-fly translation.\n",
    "\n",
    "**3. Error Detection**\n",
    "\n",
    "Compiler detects most errors during compilation before execution.\n",
    "\n",
    "Interpreter may encounter errors only when the problematic line runs.\n",
    "\n",
    "**4. Portability**\n",
    "\n",
    "Compiled code is platform-specific unless recompiled.\n",
    "\n",
    "Interpreted code can run on any system with the right interpreter.\n",
    "\n",
    "**Examples**\n",
    "\n",
    "Compiled: C, C++\n",
    "\n",
    "Interpreted: Python, JavaScript"
   ]
  },
  {
   "cell_type": "markdown",
   "metadata": {
    "id": "EEkE-uF5GWGq"
   },
   "source": [
    "# 2 .What is exception handling in Python?\n",
    "Definition – A mechanism to handle runtime errors gracefully without crashing the program.\n",
    "\n",
    "Keywords – Uses try, except, else, and finally blocks.\n",
    "\n",
    "Purpose – Prevents abrupt termination by handling expected and unexpected errors.\n",
    "\n",
    "Types of Exceptions – Includes built-in exceptions like ValueError, TypeError, ZeroDivisionError, etc., and user-defined exceptions.\n",
    "\n",
    "\n",
    "```\n",
    "try:\n",
    "    x = 1 / 0\n",
    "except ZeroDivisionError:\n",
    "    print(\"Cannot divide by zero\")\n",
    "\n",
    "```\n",
    "\n"
   ]
  },
  {
   "cell_type": "markdown",
   "metadata": {
    "id": "5D8AAkCCIRBW"
   },
   "source": [
    "# 3. What is the purpose of the finally block in exception handling?\n",
    "\n",
    "Definition – A block that always executes, regardless of whether an exception occurred or not.\n",
    "\n",
    "Use Case – For cleanup activities like closing files, releasing resources, or disconnecting from a database.\n",
    "\n",
    "Execution Guarantee – Runs even if a return, break, or continue statement is in the try or except.\n",
    "\n",
    "Error Handling – Executes after try and except blocks, making it ideal for safe resource management.\n",
    "\n",
    "Example –\n",
    "```\n",
    "try:\n",
    "    file = open(\"data.txt\", \"r\")\n",
    "except FileNotFoundError:\n",
    "    print(\"File not found\")\n",
    "finally:\n",
    "    print(\"Closing resources...\")\n",
    "\n",
    "```\n"
   ]
  },
  {
   "cell_type": "markdown",
   "metadata": {
    "id": "Bw8AnGgRel-D"
   },
   "source": [
    "# 4. What is logging in Python ?\n",
    "\n",
    "Definition – A way to record events, errors, warnings, and information during program execution.\n",
    "\n",
    "Purpose – Helps debug, monitor, and maintain applications without using print statements.\n",
    "\n",
    "Logging Levels – DEBUG, INFO, WARNING, ERROR, CRITICAL.\n",
    "\n",
    "Module – Python has a built-in logging module for creating logs.\n",
    "\n",
    "```\n",
    "import logging\n",
    "logging.basicConfig(level=logging.INFO)\n",
    "logging.info(\"Program started\")\n",
    "```\n"
   ]
  },
  {
   "cell_type": "markdown",
   "metadata": {
    "id": "QHNZYMy0fTEc"
   },
   "source": [
    "# **#5 What is the significance of the __del__ method in Python?**\n",
    "\n",
    "Definition – A destructor method in Python, called when an object is about to be destroyed.\n",
    "\n",
    "Purpose – Used for cleanup tasks like closing files or releasing resources before the object is deleted.\n",
    "\n",
    "Automatic Call – Invoked automatically when there are no more references to the object.\n",
    "\n",
    "Caution – Should not be relied on heavily; Python’s garbage collector manages memory automatically.\n",
    "\n",
    "Example –\n",
    "```\n",
    "class MyClass:\n",
    "    def __del__(self):\n",
    "        print(\"Object destroyed\")\n",
    "```"
   ]
  },
  {
   "cell_type": "markdown",
   "metadata": {
    "id": "l4QCOcPsfniH"
   },
   "source": [
    "# 6. What is the difference between import and from ... import in Python?\n",
    "\n",
    "**Syntax**\n",
    "\n",
    "import module_name imports the whole module.\n",
    "\n",
    "from module_name import item imports specific functions, classes, or variables.\n",
    "\n",
    "**Namespace**\n",
    "\n",
    "import keeps items inside the module’s namespace (module.item).\n",
    "\n",
    "from ... import brings items directly into the current namespace (item).\n",
    "\n",
    "**Memory Usage**\n",
    "\n",
    "import may load more into memory since the entire module is loaded.\n",
    "\n",
    "from ... import loads only what you need (but still loads the full module internally).\n",
    "\n",
    "**Readability**\n",
    "\n",
    "import makes it clearer where functions come from.\n",
    "\n",
    "from ... import can make code shorter but may cause naming conflicts.\n",
    "\n",
    "Example –\n",
    "\n",
    "```\n",
    "import math\n",
    "print(math.sqrt(4))\n",
    "\n",
    "from math import sqrt\n",
    "print(sqrt(4))\n",
    "```\n",
    "\n"
   ]
  },
  {
   "cell_type": "markdown",
   "metadata": {
    "id": "yPwxEzgQfoiH"
   },
   "source": [
    "# 7. How can you handle multiple exceptions in Python?\n",
    "\n",
    "Multiple except Blocks – Use separate except clauses for each exception type.\n",
    "\n",
    "Tuple of Exceptions – Catch multiple exceptions in one block using a tuple.\n",
    "\n",
    "Order Matters – Place specific exceptions before general ones to avoid masking.\n",
    "\n",
    "Access Exception Object – Use as e to get details of the exception.\n",
    "\n",
    "Example –\n",
    "```\n",
    "try:\n",
    "    x = int(\"abc\")\n",
    "except (ValueError, TypeError) as e:\n",
    "    print(\"Error:\", e)\n",
    "```"
   ]
  },
  {
   "cell_type": "markdown",
   "metadata": {
    "id": "GiQj1pAdfo1a"
   },
   "source": [
    "# 8. What is the purpose of the with statement when handling files in Python?\n",
    "\n",
    "**Automatic Resource Management** – Closes the file automatically after execution.\n",
    "\n",
    "Cleaner Code – No need to call file.close() manually.\n",
    "\n",
    "Exception Safety – Closes files even if an exception occurs in the block.\n",
    "\n",
    "Readability – Makes file handling syntax concise and readable.\n",
    "\n",
    "Example –\n",
    "\n",
    "```\n",
    "with open(\"data.txt\", \"r\") as f:\n",
    "    content = f.read()\n",
    "```"
   ]
  },
  {
   "cell_type": "markdown",
   "metadata": {
    "id": "R5Wne0GafzbP"
   },
   "source": [
    "# 9. What is the difference between multithreading and multiprocessing?\n",
    "\n",
    "**Definition** –\n",
    "\n",
    "Multithreading: Multiple threads in a single process share memory.\n",
    "\n",
    "Multiprocessing: Multiple processes with separate memory spaces.\n",
    "\n",
    "**Speed** –\n",
    "\n",
    "Multithreading is good for I/O-bound tasks.\n",
    "\n",
    "Multiprocessing is better for CPU-bound tasks.\n",
    "\n",
    "**Memory Usage** –\n",
    "\n",
    "Threads share memory, so lighter.\n",
    "\n",
    "Processes are heavier due to separate memory.\n",
    "\n",
    "**GIL (Global Interpreter Lock)** –\n",
    "\n",
    "Multithreading in Python is limited by GIL for CPU-bound tasks.\n",
    "\n",
    "Multiprocessing bypasses GIL by using separate processes.\n",
    "\n",
    "**Example** –\n",
    "\n",
    "Multithreading: Reading multiple files at once.\n",
    "\n",
    "Multiprocessing: Image processing in parallel."
   ]
  },
  {
   "cell_type": "markdown",
   "metadata": {
    "id": "vbo-XGoFf3k4"
   },
   "source": [
    "\n",
    "# 10. What are the advantages of using logging in a program?\n",
    "\n",
    "\n",
    "**Easier debugging **– Logs provide detailed information about program execution, helping identify and fix issues faster than using print statements.\n",
    "\n",
    "**Persistent records** – Logs can be stored in files for future reference, enabling historical tracking of events and errors.\n",
    "\n",
    "**Different severity levels** – Logging allows categorizing messages as DEBUG, INFO, WARNING, ERROR, or CRITICAL, making it easier to filter and prioritize issues.\n",
    "\n",
    "**Non-intrusive monitoring** – Unlike print() statements, logging doesn’t interfere with program output or flow and can be turned on or off as needed.\n",
    "\n",
    "**Better maintenance **– Developers can track program behavior over time, making it easier to maintain and improve the software.\n",
    "\n",
    "**Integration with monitoring tools** – Logs can be sent to external systems or servers for real-time monitoring, alerting, and analytics.\n",
    "\n",
    "**Security and auditing** – Logs help track sensitive actions or errors, which is useful for audits and ensuring compliance with regulations.\n",
    "\n"
   ]
  },
  {
   "cell_type": "markdown",
   "metadata": {
    "id": "NV5N8YrCiBuO"
   },
   "source": [
    "# 11. What is memory management in Python?\n",
    "\n",
    "Automatic Allocation – Python automatically allocates memory to variables and objects when they are created.\n",
    "\n",
    "Reference Counting – Keeps track of how many references point to an object; if zero, it’s eligible for deletion.\n",
    "\n",
    "Garbage Collection – Removes unused objects from memory to free up space.\n",
    "\n",
    "Memory Pools – Python uses private heaps and memory managers to store objects efficiently.\n",
    "\n",
    "Dynamic Typing – Memory size changes automatically depending on the object’s data type and value."
   ]
  },
  {
   "cell_type": "markdown",
   "metadata": {
    "id": "rXE4iyNEhpyj"
   },
   "source": [
    "# 12. What are the basic steps involved in exception handling in Python?\n",
    "\n",
    "Try Block – Wrap code that might cause errors.\n",
    "Example:\n",
    "```\n",
    "try:\n",
    "    num = int(\"abc\")\n",
    "```\n",
    "Except Block – Handle specific error.\n",
    "\n",
    "```\n",
    "except ValueError:\n",
    "    print(\"Invalid number!\")\n",
    "```\n",
    "Multiple Excepts – Handle different exceptions separately.\n",
    "\n",
    "Else Block – Runs if no error.\n",
    "```\n",
    "else:\n",
    "    print(\"Conversion successful!\")\n",
    "```\n",
    "Finally Block – Runs always.\n",
    "```\n",
    "finally:\n",
    "    print(\"Execution complete.\")\n",
    "```"
   ]
  },
  {
   "cell_type": "markdown",
   "metadata": {
    "id": "DvQ9lWH0hxpu"
   },
   "source": [
    "# 13. Why is memory management important in Python?\n",
    "\n",
    "**Prevents Memory Leaks** – Ensures unused objects are removed from memory so they don’t occupy space unnecessarily.\n",
    "Example:\n",
    "```\n",
    "data = [1, 2, 3]\n",
    "del data  # Frees memory\n",
    "```\n",
    "**Improves Performance** – By freeing memory, programs can execute faster and respond better.\n",
    "\n",
    "**Optimizes Resources** – Efficiently uses CPU and RAM so the system can handle more tasks simultaneously.\n",
    "\n",
    "**Prevents Crashes** – Avoids “Out of Memory” errors, especially during large computations or infinite loops.\n",
    "Example: Avoid creating huge unused lists like [0] * 100000000 without purpose.\n",
    "\n",
    "**Ensures Stability** – Keeps the program running smoothly for long periods without performance degradation."
   ]
  },
  {
   "cell_type": "markdown",
   "metadata": {
    "id": "fnCXFw_Sh4dP"
   },
   "source": [
    "# 14. What is the role of try and except in exception handling?\n",
    "\n",
    "**Role of try and except in Exception Handling**\n",
    "\n",
    "**Error Detection (try)** – Code that might cause an error is placed inside a try block so Python can watch it.\n",
    "Example:\n",
    "```\n",
    "try:\n",
    "    result = 10 / 0\n",
    "```\n",
    "**Error Handling (except)** – If an error occurs, the except block catches it and runs alternative code.\n",
    "Example:\n",
    "```\n",
    "except ZeroDivisionError:\n",
    "    print(\"You can't divide by zero!\")\n",
    "```\n",
    "**Prevents Program Crash** – The program continues running instead of stopping abruptly.\n",
    "\n",
    "**Custom Error Messages** – Allows showing clear, user-friendly error messages.\n",
    "\n",
    "**Handles Multiple Errors** – Can use multiple except blocks or a tuple to catch different exceptions.\n",
    "Example:\n",
    "\n",
    "```\n",
    "except (ValueError, TypeError):\n",
    "    print(\"Invalid input type or value!\")\n",
    "```"
   ]
  },
  {
   "cell_type": "markdown",
   "metadata": {
    "id": "mql3oQJ0h6y9"
   },
   "source": [
    "# 15. How does Python's garbage collection system work?\n",
    "\n",
    "**Reference Counting** – Python tracks how many variables refer to each object.\n",
    "\n",
    "**When Count** = 0 – If no variable points to an object, it’s automatically deleted.\n",
    "Example:\n",
    "```\n",
    "a = [1, 2, 3]\n",
    "b = a\n",
    "del a\n",
    "del b  # Object deleted here\n",
    "```\n",
    "**Generational GC **– Objects are grouped into “generations”; older ones are checked for deletion less often for efficiency.\n",
    "\n",
    "**Cycle Detection** – Detects and removes circular references (objects referring to each other but unused).\n",
    "Example:\n",
    "```\n",
    "import gc\n",
    "gc.collect()  # Forces garbage collection\n",
    "```\n",
    "**Automatic Cleanup** – Python runs garbage collection automatically without developer intervention."
   ]
  },
  {
   "cell_type": "markdown",
   "metadata": {
    "id": "etNvaEYvprZx"
   },
   "source": [
    "# 16. What is the purpose of the else block in exception handling?\n",
    "\n",
    "In Python’s try...except...else structure, the else block runs only if no exception is raised in the try block.\n",
    "\n",
    "It’s used to put code that should execute only when everything in try succeeds, keeping it separate from the try logic for clarity.\n",
    "Example:\n",
    "```\n",
    "try:\n",
    "    num = int(input(\"Enter a number: \"))\n",
    "except ValueError:\n",
    "    print(\"Invalid number!\")\n",
    "else:\n",
    "    print(f\"Square is {num**2}\")\n",
    "```"
   ]
  },
  {
   "cell_type": "markdown",
   "metadata": {
    "id": "oX9wn08Gp0Np"
   },
   "source": [
    "# 17. What are the common logging levels in Python?\n",
    "Python’s logging module defines standard levels (from lowest to highest severity):\n",
    "\n",
    "DEBUG – Detailed diagnostic information for developers.\n",
    "\n",
    "INFO – General information about program progress.\n",
    "\n",
    "WARNING – Something unexpected happened, but the program still runs.\n",
    "\n",
    "ERROR – A serious issue that caused part of the program to fail.\n",
    "\n",
    "CRITICAL – A very serious error, likely causing the program to stop."
   ]
  },
  {
   "cell_type": "markdown",
   "metadata": {
    "id": "8FlrKl1rp4hu"
   },
   "source": [
    "# 18. What is the difference between os.fork() and multiprocessing in Python?\n",
    "\n",
    "**os.fork()**\n",
    "\n",
    "  Works only on Unix/Linux systems.\n",
    "\n",
    "  Directly creates a child process as a clone of the current process.\n",
    "\n",
    "  Lower-level, requires manual management of process communication.\n",
    "\n",
    "**multiprocessing module**\n",
    "\n",
    "  Works on Windows, Mac, and Linux.\n",
    "\n",
    "  Provides a high-level API for creating and managing processes.\n",
    "\n",
    "  Handles inter-process communication (IPC) more easily.\n",
    "\n",
    "  Internally uses os.fork() on Unix, but spawns new processes differently on Windows."
   ]
  },
  {
   "cell_type": "markdown",
   "metadata": {
    "id": "HhnmytpOqfO_"
   },
   "source": [
    "# 19. What is the importance of closing a file in Python?\n",
    "\n",
    "Ensures all data is written from buffers to the file (flush).\n",
    "\n",
    "Frees up system resources like file descriptors.\n",
    "\n",
    "Prevents file corruption or incomplete writes.\n",
    "\n",
    "Best practice: Use with open(...) as f: which closes the file automatically."
   ]
  },
  {
   "cell_type": "markdown",
   "metadata": {
    "id": "kL1Uk1BBqye7"
   },
   "source": [
    "# 20. What is the difference between file.read() and file.readline() in Python?\n",
    "\n",
    "file.read() – Reads the entire file (or a specified number of bytes) into a single string.\n",
    "\n",
    "file.readline() – Reads only one line from the file (up to \\n or EOF).\n",
    "Example:\n",
    "```\n",
    "f = open(\"data.txt\")\n",
    "print(f.read())       # Whole file\n",
    "f.seek(0)\n",
    "print(f.readline())   # First line only\n",
    "```\n",
    "file.read() uses more memory for large files since it loads all content.\n",
    "\n",
    "file.readline() is memory-efficient for large files as it processes line-by-line.\n",
    "\n",
    "file.read() is useful when you need whole content at once.\n",
    "\n",
    "file.readline() is useful for iterating through lines.\n",
    "\n",
    "Both accept an optional size argument (bytes for read(), max characters for readline()).\n",
    "\n",
    "file.read() is slower for large files due to heavy memory load, while file.readline() is faster for stepwise reading."
   ]
  },
  {
   "cell_type": "markdown",
   "metadata": {
    "id": "XXu9H_btrqGW"
   },
   "source": [
    "# 21. What is the logging module in Python used for?\n",
    "\n",
    "**Record program events** – Keeps track of significant actions or changes happening in the program while it runs.\n",
    "\n",
    "**Debugging help** – Assists in finding and fixing issues without using unnecessary print() statements.\n",
    "\n",
    "**Different log levels**– Allows categorizing messages by importance like DEBUG (detailed info), INFO (general updates), WARNING (potential issue), ERROR (serious problem), and CRITICAL (severe failure).\n",
    "\n",
    "**Output flexibility** – Logs can be stored in files, shown in the console, or sent to remote servers depending on the need.\n",
    "\n",
    "**Timestamp & context** – Automatically attaches details such as date, time, filename, and line number for better tracking.\n",
    "\n",
    "**Persistent logs** – Maintains a history of events, which can be reviewed later for audits, error tracking, or performance analysis."
   ]
  },
  {
   "cell_type": "markdown",
   "metadata": {
    "id": "VDF0F7BDr7At"
   },
   "source": [
    "# 22. What is the os module in Python used for in file handling?\n",
    "\n",
    "**File creation/deletion** – Using functions like os.remove() to delete files, os.rename() to rename files, and integration with Python’s file-writing methods to create new files, the os module makes file lifecycle management straightforward.\n",
    "\n",
    "**Directory management** – It provides functions such as os.mkdir() for creating new folders, os.rmdir() for removing empty folders, and os.listdir() for listing the contents of a directory, making folder organization and navigation easier.\n",
    "\n",
    "**Path handling** – With os.path submodule, you can join paths (os.path.join()), check file existence (os.path.exists()), and differentiate between relative and absolute paths, ensuring correct file location handling across different systems.\n",
    "\n",
    "**Environment access** – The module allows reading environment variables via os.environ (e.g., getting database connection strings or API keys), enabling programs to adapt to different environments without hardcoding sensitive data.\n",
    "\n",
    "**Permission control** – Using os.chmod(), you can modify file or directory permissions (read, write, execute), which is useful for security, restricting access, or granting specific rights to users or processes.\n",
    "\n",
    "**Cross-platform support** – The os module abstracts away system-specific differences, so file-handling code works across Windows, macOS, and Linux without requiring separate implementations for each platform."
   ]
  },
  {
   "cell_type": "markdown",
   "metadata": {
    "id": "QEPxf_FNr9Qb"
   },
   "source": [
    "# 23. Challenges associated with memory management in Python?\n",
    "\n",
    "**Garbage collection overhead**– Python’s garbage collector periodically scans for unused objects and frees memory. While this helps prevent memory leaks, it can introduce small delays or pauses, especially in applications that require real-time performance.\n",
    "\n",
    "**Memory leaks** – If references to objects are unintentionally kept alive (e.g., stored in global variables or lingering in data structures), Python cannot free them, leading to steadily increasing memory usage and possible program slowdown or crashes.\n",
    "\n",
    "**Circular references** – When two or more objects reference each other, the reference count never reaches zero, making it harder for Python’s garbage collector to clean them up quickly, which can delay memory release.\n",
    "\n",
    "**Large object handling** – Working with huge lists, dictionaries, or NumPy arrays can consume a lot of RAM. Without careful optimization, this can lead to excessive memory usage and even “Out of Memory” errors.\n",
    "\n",
    "**Fragmentation** – Over time, memory can become scattered into small free chunks instead of large contiguous blocks. This fragmentation can cause inefficient memory usage and slow allocation for new objects."
   ]
  },
  {
   "cell_type": "markdown",
   "metadata": {
    "id": "l2xu99J3sclU"
   },
   "source": [
    "# 24. How do you raise an exception manually in Python?\n",
    "\n",
    "**Use raise keyword** – The raise statement in Python is used to trigger an exception on demand. This allows developers to signal that an error or unusual condition has occurred, even if Python itself hasn’t detected it.\n",
    "\n",
    "**Predefined exceptions** – Python has many built-in exceptions such as ValueError, TypeError, and FileNotFoundError. You can raise them directly, for example:\n",
    "```\n",
    "raise ValueError(\"Invalid input\")\n",
    "This helps enforce rules and catch invalid states early in execution.\n",
    "```\n",
    "**Custom exceptions** – You can create your own exception types by defining a class that inherits from Python’s Exception base class. This is useful for application-specific errors and makes error handling more descriptive.\n",
    "\n",
    "```\n",
    "class MyCustomError(Exception):\n",
    "    pass\n",
    "raise MyCustomError(\"Something went wrong\")\n",
    "```\n",
    "**Control program flow** – Raising an exception stops normal execution at that point and transfers control to the nearest matching except block. This ensures that faulty logic or invalid states don’t proceed silently.\n",
    "\n",
    "**Better error messages** – When raising exceptions, you can attach custom messages explaining what went wrong. These messages make debugging easier and help users or other developers understand the issue quickly."
   ]
  },
  {
   "cell_type": "markdown",
   "metadata": {
    "id": "oYF1YeDssx1J"
   },
   "source": [
    "# 25. Why is it important to use multithreading in certain applications?\n",
    "\n",
    "**Parallel execution** – Multithreading allows multiple threads to run seemingly at the same time within a single process. This enables handling multiple tasks concurrently, such as reading user input while processing data in the background.\n",
    "\n",
    "**Better performance** – In I/O-bound tasks (like file operations, database queries, or network requests), threads can work while waiting for data, which improves application responsiveness and reduces idle time.\n",
    "\n",
    "**Efficient CPU use** – When one thread is waiting for input/output operations to finish, another thread can use the CPU, making better use of available resources instead of letting the processor remain idle.\n",
    "\n",
    "**Background tasks** – Multithreading enables certain operations (like logging, sending emails, or syncing data) to run in the background without interrupting or delaying the main program flow.\n",
    "\n",
    "**Real-time processing** – For applications such as live chat systems, stock price tracking, or video streaming, threads can handle continuous incoming data while the main thread processes and displays results in real-time."
   ]
  },
  {
   "cell_type": "markdown",
   "metadata": {
    "id": "TYF622UHu0JS"
   },
   "source": [
    "# Practical Questions"
   ]
  },
  {
   "cell_type": "code",
   "execution_count": 2,
   "metadata": {
    "id": "Eo-m8i10vUj2"
   },
   "outputs": [],
   "source": [
    "#1. How can you open a file for writing in Python and write a string to it?\n",
    "\n",
    "with open(\"example.txt\", \"w\") as f:  # 'w' mode opens for writing\n",
    "    f.write(\"Hello, Python!\")        # Write a string to the file"
   ]
  },
  {
   "cell_type": "code",
   "execution_count": 3,
   "metadata": {
    "colab": {
     "base_uri": "https://localhost:8080/"
    },
    "id": "PZwHDzsjxUZn",
    "outputId": "7395d3e1-0057-4fc9-94c7-e57f69b0b406"
   },
   "outputs": [
    {
     "name": "stdout",
     "output_type": "stream",
     "text": [
      "Hello, Python!\n"
     ]
    }
   ],
   "source": [
    "#2. Write a Python program to read the contents of a file and print each line?\n",
    "\n",
    "with open(\"example.txt\", \"r\") as f:  # 'r' mode opens for reading\n",
    "    for line in f:\n",
    "        print(line.strip())  # Remove newline character"
   ]
  },
  {
   "cell_type": "code",
   "execution_count": 4,
   "metadata": {
    "colab": {
     "base_uri": "https://localhost:8080/"
    },
    "id": "zAgulU9Pxf2_",
    "outputId": "20dd4829-df7d-4b9d-e8ac-fb18cbcece02"
   },
   "outputs": [
    {
     "name": "stdout",
     "output_type": "stream",
     "text": [
      "File does not exist!\n"
     ]
    }
   ],
   "source": [
    "#3. How would you handle a case where the file doesn't exist while trying to open it for reading?\n",
    "\n",
    "try:\n",
    "    with open(\"nonexistent.txt\", \"r\") as f:\n",
    "        content = f.read()\n",
    "except FileNotFoundError:\n",
    "    print(\"File does not exist!\")"
   ]
  },
  {
   "cell_type": "code",
   "execution_count": 2,
   "metadata": {
    "colab": {
     "base_uri": "https://localhost:8080/",
     "height": 233
    },
    "id": "L0dfAfEBxpAb",
    "outputId": "8598caab-fc78-4dbc-b019-eb104e80f8dc"
   },
   "outputs": [],
   "source": [
    "#4. Write a Python script that reads from one file and writes its content to another file?\n",
    "\n",
    "with open(\"source.txt\", \"r\") as src, open(\"destination.txt\", \"w\") as dest:\n",
    "    for line in src:\n",
    "        dest.write(line)"
   ]
  },
  {
   "cell_type": "code",
   "execution_count": 3,
   "metadata": {
    "colab": {
     "base_uri": "https://localhost:8080/"
    },
    "id": "6Bl-ZgOyx7rD",
    "outputId": "bb693176-a5cf-46d5-bf23-2becf6e32808"
   },
   "outputs": [
    {
     "name": "stdout",
     "output_type": "stream",
     "text": [
      "Cannot divide by zero!\n"
     ]
    }
   ],
   "source": [
    "#5. How would you catch and handle division by zero error in Python?\n",
    "\n",
    "try:\n",
    "    x = 10\n",
    "    y = 0\n",
    "    result = x / y\n",
    "except ZeroDivisionError:\n",
    "    print(\"Cannot divide by zero!\")"
   ]
  },
  {
   "cell_type": "code",
   "execution_count": 4,
   "metadata": {
    "colab": {
     "base_uri": "https://localhost:8080/"
    },
    "id": "bC2MK--xzIK5",
    "outputId": "9c8fa2c7-58ba-4eb5-8d1b-80422110d66e"
   },
   "outputs": [
    {
     "name": "stdout",
     "output_type": "stream",
     "text": [
      "Error logged to file.\n"
     ]
    }
   ],
   "source": [
    "#6. Write a Python program that logs an error message to a log file when a division by zero exception occurs?\n",
    "\n",
    "import logging\n",
    "\n",
    "# Configure logging to write to a file\n",
    "logging.basicConfig(filename='error_log.txt', level=logging.ERROR,\n",
    "                    format='%(asctime)s - %(levelname)s - %(message)s')\n",
    "\n",
    "try:\n",
    "    a = 10\n",
    "    b = 0\n",
    "    result = a / b\n",
    "except ZeroDivisionError as e:\n",
    "    logging.error(f\"Division by zero error: {e}\")\n",
    "    print(\"Error logged to file.\")\n"
   ]
  },
  {
   "cell_type": "code",
   "execution_count": null,
   "metadata": {
    "id": "2ULW9JzB6Vcs"
   },
   "outputs": [],
   "source": []
  },
  {
   "cell_type": "code",
   "execution_count": 18,
   "metadata": {
    "colab": {
     "base_uri": "https://localhost:8080/"
    },
    "id": "Ce5352tXzPE4",
    "outputId": "8b1460cb-054b-4024-a79c-ccdd30f58a6a"
   },
   "outputs": [],
   "source": [
    "#7.How do you log information at different levels (INFO, ERROR, WARNING) in Python using the logging module\u001f\n",
    "\n",
    "#Note: This program will run manually\n",
    "# The file name is file_error_logger.py\n",
    "\n",
    "import logging\n",
    "\n",
    "logging.basicConfig(filename='app_log.txt', level=logging.DEBUG,\n",
    "                    format='%(asctime)s - %(levelname)s - %(message)s')\n",
    "\n",
    "logging.info(\"This is an informational message.\")\n",
    "logging.warning(\"This is a warning message.\")\n",
    "logging.error(\"This is an error message.\")"
   ]
  },
  {
   "cell_type": "code",
   "execution_count": 20,
   "metadata": {
    "colab": {
     "base_uri": "https://localhost:8080/"
    },
    "id": "_vZHbGekzT6P",
    "outputId": "2206cd39-341f-48aa-d211-9fffa1d7dfd9"
   },
   "outputs": [
    {
     "name": "stdout",
     "output_type": "stream",
     "text": [
      "File opening error: [Errno 2] No such file or directory: 'non_existing_file.txt'\n",
      "Creating file...\n",
      "File created successfully.\n"
     ]
    }
   ],
   "source": [
    "#8. Program to handle a file opening error using exception handling\n",
    "\n",
    "try:\n",
    "    with open('non_existing_file.txt', 'r') as file:\n",
    "        content = file.read()\n",
    "        print(\"File content:\", content)\n",
    "except FileNotFoundError as e:\n",
    "    print(f\"File opening error: {e}\")\n",
    "    print(\"Creating file...\")\n",
    "    with open('non_existing_file.txt', 'w') as file:\n",
    "        file.write(\"This is a newly created file.\\n\")\n",
    "    print(\"File created successfully.\")\n"
   ]
  },
  {
   "cell_type": "code",
   "execution_count": 10,
   "metadata": {
    "colab": {
     "base_uri": "https://localhost:8080/"
    },
    "id": "O-Vv4rO8zcJV",
    "outputId": "f2718daf-ec52-4ff1-9329-50fb0860f804"
   },
   "outputs": [
    {
     "name": "stdout",
     "output_type": "stream",
     "text": [
      "['Line 1: Welcome to the sample file.', 'Line 2: This file is used for Python file handling examples.', 'Line 3: Logging and exception handling will be demonstrated.']\n"
     ]
    }
   ],
   "source": [
    "#9. How can you read a file line by line and store its content in a list in Python?\n",
    "\n",
    "lines = []\n",
    "try:\n",
    "    with open('sample.txt', 'r') as file:\n",
    "        for line in file:\n",
    "            lines.append(line.strip())  # remove newline characters\n",
    "    print(lines)\n",
    "except FileNotFoundError:\n",
    "    print(\"File not found.\")"
   ]
  },
  {
   "cell_type": "code",
   "execution_count": 16,
   "metadata": {
    "colab": {
     "base_uri": "https://localhost:8080/"
    },
    "id": "qSaaGXCwzgth",
    "outputId": "dffe8a1c-60a6-4894-a5b5-dd10fe8a4601"
   },
   "outputs": [
    {
     "name": "stdout",
     "output_type": "stream",
     "text": [
      "Data appended successfully.\n"
     ]
    }
   ],
   "source": [
    "#10. How can you append data to an existing file in Python?\n",
    "\n",
    "data_to_append = \"This is a new line.\\n\"\n",
    "\n",
    "with open('sample.txt', 'a') as file:\n",
    "    file.write(data_to_append)\n",
    "\n",
    "print(\"Data appended successfully.\")"
   ]
  },
  {
   "cell_type": "code",
   "execution_count": null,
   "metadata": {
    "id": "0mJXskJh1v47"
   },
   "outputs": [],
   "source": [
    "#11 . Write a Python program that uses a try-except block to handle an error when attempting to access a dictionary key that doesn't exist\n",
    "my_dict = {\"name\": \"Adwait\", \"age\": 25}\n",
    "\n",
    "try:\n",
    "    print(my_dict[\"address\"])\n",
    "except KeyError:\n",
    "    print(\"Error: The key does not exist in the dictionary.\")\n"
   ]
  },
  {
   "cell_type": "code",
   "execution_count": null,
   "metadata": {
    "id": "KfPnb-iC11eK"
   },
   "outputs": [],
   "source": [
    "#12. Write a program that demonstrates using multiple except blocks to handle different types of exceptions\n",
    "try:\n",
    "    num1 = int(input(\"Enter a number: \"))\n",
    "    num2 = int(input(\"Enter another number: \"))\n",
    "    result = num1 / num2\n",
    "except ValueError:\n",
    "    print(\"Error: Please enter valid numbers.\")\n",
    "except ZeroDivisionError:\n",
    "    print(\"Error: Cannot divide by zero.\")\n",
    "else:\n",
    "    print(\"Result:\", result)"
   ]
  },
  {
   "cell_type": "code",
   "execution_count": 18,
   "metadata": {
    "id": "muD1d6Vl2Gx0"
   },
   "outputs": [],
   "source": [
    "#13. How would you check if a file exists before attempting to read it in Python\u001f\n",
    "import os\n",
    "\n",
    "file_path = \"sample.txt\"\n",
    "\n",
    "if os.path.exists(file_path):\n",
    "    with open(file_path, \"r\") as f:\n",
    "        content = f.read()\n",
    "    print(content)\n",
    "else:\n",
    "    print(\"File does not exist.\")\n"
   ]
  },
  {
   "cell_type": "code",
   "execution_count": 23,
   "metadata": {
    "id": "zgU6ug-J2KaF"
   },
   "outputs": [],
   "source": [
    "#14. Write a program that uses the logging module to log both informational and error messages\n",
    "import logging\n",
    "\n",
    "logging.basicConfig(filename=\"app.log\", level=logging.INFO, format=\"%(asctime)s - %(levelname)s - %(message)s\")\n",
    "\n",
    "logging.info(\"This is an informational message.\")\n",
    "try:\n",
    "    1 / 0\n",
    "except ZeroDivisionError:\n",
    "    logging.error(\"Division by zero occurred.\")\n"
   ]
  },
  {
   "cell_type": "code",
   "execution_count": null,
   "metadata": {
    "id": "ckPmfvCR2d_m"
   },
   "outputs": [],
   "source": [
    "#15.Write a Python program that prints the content of a file and handles the case when the file is empty?\n",
    "file_path = \"sample.txt\"\n",
    "\n",
    "try:\n",
    "    with open(file_path, \"r\") as f:\n",
    "        content = f.read()\n",
    "        if content:\n",
    "            print(\"File content:\\n\", content)\n",
    "        else:\n",
    "            print(\"File is empty.\")\n",
    "except FileNotFoundError:\n",
    "    print(\"File does not exist.\")\n"
   ]
  },
  {
   "cell_type": "code",
   "execution_count": 1,
   "metadata": {
    "id": "__kZt-M42-Zp"
   },
   "outputs": [
    {
     "name": "stdout",
     "output_type": "stream",
     "text": [
      "ERROR: Could not find file /var/folders/4z/4zml0bsj6sv4gy7grdbzncjr0000gn/T/ipykernel_91872/3264838435.py\n"
     ]
    }
   ],
   "source": [
    "#16. Demonstrate how to use memory profiling to check the memory usage of a small program?\n",
    "\n",
    "# First install memory_profiler if not installed:\n",
    "# pip install memory-profiler\n",
    "\n",
    "from memory_profiler import profile\n",
    "\n",
    "@profile\n",
    "def create_list():\n",
    "    my_list = [i for i in range(100000)]\n",
    "    return my_list\n",
    "\n",
    "if __name__ == \"__main__\":\n",
    "    create_list()\n"
   ]
  },
  {
   "cell_type": "code",
   "execution_count": 3,
   "metadata": {
    "id": "-FhGYzPC3Cfa"
   },
   "outputs": [
    {
     "name": "stdout",
     "output_type": "stream",
     "text": [
      "Numbers written to file successfully.\n"
     ]
    }
   ],
   "source": [
    "#17. Write a Python program to create and write a list of numbers to a file, one number per line?\n",
    "numbers = [1, 2, 3, 4, 5]\n",
    "\n",
    "with open(\"numbers.txt\", \"w\") as f:\n",
    "    for num in numbers:\n",
    "        f.write(str(num) + \"\\n\")\n",
    "\n",
    "print(\"Numbers written to file successfully.\")\n"
   ]
  },
  {
   "cell_type": "code",
   "execution_count": 17,
   "metadata": {
    "id": "tBZiw5WF3F3m"
   },
   "outputs": [],
   "source": [
    "#18. How would you implement a basic logging setup that logs to a file with rotation after 1MB?\n",
    "\n",
    "# Note please run this program manually\n",
    "# file name is rotating_log.py\n",
    "# it should be greater than 1Mb\n",
    "import logging\n",
    "from logging.handlers import RotatingFileHandler\n",
    "\n",
    "# Setup logger\n",
    "logger = logging.getLogger(\"my_logger\")\n",
    "logger.setLevel(logging.INFO)\n",
    "\n",
    "# Rotating file handler\n",
    "handler = RotatingFileHandler(\"app.log\", maxBytes=1_000_000, backupCount=3)\n",
    "formatter = logging.Formatter(\"%(asctime)s - %(levelname)s - %(message)s\")\n",
    "handler.setFormatter(formatter)\n",
    "\n",
    "logger.addHandler(handler)\n",
    "\n",
    "# Logging examples\n",
    "logger.info(\"This is an info message.\")\n",
    "logger.error(\"This is an error message.\")\n"
   ]
  },
  {
   "cell_type": "code",
   "execution_count": 5,
   "metadata": {
    "id": "8Qu_DBdM3OO-"
   },
   "outputs": [
    {
     "name": "stdout",
     "output_type": "stream",
     "text": [
      "IndexError: List index out of range.\n"
     ]
    }
   ],
   "source": [
    "#19. Write a program that handles both IndexError and KeyError using a try-except block?\n",
    "\n",
    "my_list = [1, 2, 3]\n",
    "my_dict = {\"name\": \"Adwait\"}\n",
    "\n",
    "try:\n",
    "    print(my_list[5])\n",
    "    print(my_dict[\"age\"])\n",
    "except IndexError:\n",
    "    print(\"IndexError: List index out of range.\")\n",
    "except KeyError:\n",
    "    print(\"KeyError: Key not found in dictionary.\")\n"
   ]
  },
  {
   "cell_type": "code",
   "execution_count": 11,
   "metadata": {
    "id": "THdt1Vkt3SO-"
   },
   "outputs": [
    {
     "name": "stdout",
     "output_type": "stream",
     "text": [
      "File content:\n",
      " hey my self Adwait Verma\n",
      "I'm a full stack developr\n"
     ]
    }
   ],
   "source": [
    " #20 How would you open a file and read its contents using a context manager in Python?\n",
    "file_path = \"sample.txt\"\n",
    "\n",
    "with open(file_path, \"r\") as f:\n",
    "    content = f.read()\n",
    "\n",
    "print(\"File content:\\n\", content)\n"
   ]
  },
  {
   "cell_type": "code",
   "execution_count": 12,
   "metadata": {
    "id": "gcLgKwLF34gQ"
   },
   "outputs": [
    {
     "name": "stdout",
     "output_type": "stream",
     "text": [
      "The word 'Adwait' occurs 1 times.\n"
     ]
    }
   ],
   "source": [
    "#21. Write a Python program that reads a file and prints the number of occurrences of a specific word?\n",
    "file_path = \"sample.txt\"\n",
    "word_to_count = \"Adwait\"\n",
    "\n",
    "try:\n",
    "    with open(file_path, \"r\") as f:\n",
    "        content = f.read()\n",
    "        count = content.lower().split().count(word_to_count.lower())\n",
    "    print(f\"The word '{word_to_count}' occurs {count} times.\")\n",
    "except FileNotFoundError:\n",
    "    print(\"File does not exist.\")\n",
    "\n"
   ]
  },
  {
   "cell_type": "code",
   "execution_count": 13,
   "metadata": {
    "id": "5NL2XYbq36Zx"
   },
   "outputs": [
    {
     "name": "stdout",
     "output_type": "stream",
     "text": [
      "File content:\n",
      " hey my self Adwait Verma\n",
      "I'm a full stack developr\n"
     ]
    }
   ],
   "source": [
    "#22. How can you check if a file is empty before attempting to read its contents?\n",
    "import os\n",
    "\n",
    "file_path = \"sample.txt\"\n",
    "\n",
    "if os.path.exists(file_path):\n",
    "    if os.path.getsize(file_path) > 0:\n",
    "        with open(file_path, \"r\") as f:\n",
    "            content = f.read()\n",
    "        print(\"File content:\\n\", content)\n",
    "    else:\n",
    "        print(\"File is empty.\")\n",
    "else:\n",
    "    print(\"File does not exist.\")\n",
    "\n"
   ]
  },
  {
   "cell_type": "code",
   "execution_count": 15,
   "metadata": {
    "colab": {
     "base_uri": "https://localhost:8080/"
    },
    "id": "s7jA4IHj38iS",
    "outputId": "ea7b7133-0dfb-4be3-e730-70ad0ce7dfb6"
   },
   "outputs": [
    {
     "name": "stdout",
     "output_type": "stream",
     "text": [
      "File content This is a test file.\n",
      "\n"
     ]
    }
   ],
   "source": [
    "#23. Write a Python program that writes to a log file when an error occurs during file handling.?\n",
    "\n",
    "# Note please run this program manually \n",
    "# This the name of the file file_error_logger.py\n",
    "\n",
    "import logging\n",
    "\n",
    "with open(\"nonexistent.txt\", \"w\") as f:\n",
    "    f.write(\"This is a test file.\\n\")\n",
    "\n",
    "\n",
    "logging.basicConfig(filename=\"file_errors.log\", level=logging.ERROR,\n",
    "                    format=\"%(asctime)s - %(levelname)s - %(message)s\")\n",
    "\n",
    "file_path = \"nonexistent.txt\"\n",
    "\n",
    "try:\n",
    "    with open(file_path, \"r\") as f:\n",
    "        content = f.read()\n",
    "        print(\"File content\", content)\n",
    "except FileNotFoundError as e:\n",
    "    logging.error(f\"Error opening file: {e}\")\n",
    "    print(\"An error occurred. Check 'file_errors.log' for details.\")\n",
    "\n"
   ]
  }
 ],
 "metadata": {
  "colab": {
   "provenance": []
  },
  "kernelspec": {
   "display_name": "Python (venv)",
   "language": "python",
   "name": "venv"
  },
  "language_info": {
   "codemirror_mode": {
    "name": "ipython",
    "version": 3
   },
   "file_extension": ".py",
   "mimetype": "text/x-python",
   "name": "python",
   "nbconvert_exporter": "python",
   "pygments_lexer": "ipython3",
   "version": "3.13.4"
  }
 },
 "nbformat": 4,
 "nbformat_minor": 4
}
